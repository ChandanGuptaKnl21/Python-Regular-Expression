{
 "cells": [
  {
   "cell_type": "markdown",
   "id": "b7803ac7",
   "metadata": {},
   "source": [
    "# Regular Expressions"
   ]
  },
  {
   "cell_type": "code",
   "execution_count": null,
   "id": "04818b8b",
   "metadata": {},
   "outputs": [],
   "source": [
    "Regular Expressions\n",
    "- mostly used to search, replace, delete various patterns in the text\n",
    "- regex is a language/tool/ (similar to python, java) \n",
    "- directly search for substrings in the text\n",
    "- motivation for regex, why can't we dierctly search for substrings"
   ]
  },
  {
   "cell_type": "code",
   "execution_count": null,
   "id": "4b0f797a",
   "metadata": {},
   "outputs": [],
   "source": [
    "Agenda\n",
    "- Motivation for regular expressions\n",
    "- certain business use cases for regular expressions\n",
    "- Regex language, basic patterns that we have in regex\n",
    "- literals\n",
    "- special characters\n",
    "- character sets\n",
    "- grouping\n",
    "- finally, we will apply all the above things to build some patterns for\n",
    "the business use cases that we discussed in the beginning\n"
   ]
  },
  {
   "cell_type": "code",
   "execution_count": null,
   "id": "30330dca",
   "metadata": {},
   "outputs": [],
   "source": [
    "- Validity of an email address\n",
    "- Whenever you create a new account and try to set its password\n",
    "- Mask confidential information (phone numbers, addresses, email ids) before sending it over\n",
    "- 9564321898      xxxxxx1898\n",
    "- 765432980       xxxxxxx980\n",
    "\n",
    "- Unstructured Address \n",
    " - 10M people\n",
    "- supposed to make it structured\n",
    "\n",
    "Addresses - flat no. 54, basava road, Rajesh, Hoodi, Bangalore\n",
    "\n",
    "\n",
    "Locality names\n",
    "Hudi, Bangalore"
   ]
  },
  {
   "cell_type": "code",
   "execution_count": null,
   "id": "78a94450",
   "metadata": {},
   "outputs": [],
   "source": [
    "abchdder -- immediately starts complaining, its a weak password\n",
    "\n",
    "password should be 8 characters long, 1 upper case, 1lowercase, 1 digit, 1 special chs"
   ]
  },
  {
   "cell_type": "code",
   "execution_count": null,
   "id": "c82507c9",
   "metadata": {},
   "outputs": [],
   "source": [
    "data.txt"
   ]
  },
  {
   "cell_type": "code",
   "execution_count": 1,
   "id": "83c353ff",
   "metadata": {},
   "outputs": [],
   "source": [
    "data = open(\"data.txt\", \"r\").read()"
   ]
  },
  {
   "cell_type": "code",
   "execution_count": 4,
   "id": "0c57c8f1",
   "metadata": {
    "scrolled": true
   },
   "outputs": [
    {
     "name": "stdout",
     "output_type": "stream",
     "text": [
      "Dave Martin\n",
      "615-555-7164\n",
      "173 Main St., Springfield RI 55924\n",
      "davemartin@bogusemail.com\n",
      "\n",
      "Charles Harris\n",
      "800-555-5669\n",
      "969 High St., Atlantis VA 34075\n",
      "charlesharris@bogusemail.com\n",
      "\n",
      "Eric Williams\n",
      "560-555-5153\n",
      "806 1st St., Faketown AK 86847\n",
      "laurawilliams@bogusemail.com\n",
      "\n",
      "Corey Jefferson\n",
      "900-555-9340\n",
      "826 Elm St., Epicburg NE 10671\n",
      "coreyjefferson@bogusemail.com\n",
      "\n",
      "Jennifer Martin-White\n",
      "714-555-7405\n",
      "212 Cedar St., Sunnydale CT 74983\n",
      "jenniferwhite@bogusemail.com\n",
      "\n",
      "Erick Davis\n",
      "800-555-6771\n",
      "519 Washington St., \n"
     ]
    }
   ],
   "source": [
    "print(data[:500])"
   ]
  },
  {
   "cell_type": "code",
   "execution_count": 6,
   "id": "214557f5",
   "metadata": {},
   "outputs": [
    {
     "data": {
      "text/plain": [
       "'davemartin@bogusemail.com'"
      ]
     },
     "execution_count": 6,
     "metadata": {},
     "output_type": "execute_result"
    }
   ],
   "source": [
    "data.split(\"\\n\")[3]"
   ]
  },
  {
   "cell_type": "code",
   "execution_count": null,
   "id": "55e250dc",
   "metadata": {},
   "outputs": [],
   "source": [
    "\"\"\"\"My name is heena and gmail heena.bansal@gmail.com.\n",
    "Myself Rahul and gmail rahul.bansal@gmail.com\"\"\""
   ]
  },
  {
   "cell_type": "code",
   "execution_count": 7,
   "id": "a40529f4",
   "metadata": {},
   "outputs": [],
   "source": [
    "def mask_email(s):\n",
    "  if \"@\" in s:\n",
    "    name, domain = s.split(\"@\")\n",
    "    return f\"{name[0]}####{name[-1]}@{domain}\""
   ]
  },
  {
   "cell_type": "code",
   "execution_count": 8,
   "id": "845452a3",
   "metadata": {},
   "outputs": [
    {
     "data": {
      "text/plain": [
       "'d####n@bogusemail.com'"
      ]
     },
     "execution_count": 8,
     "metadata": {},
     "output_type": "execute_result"
    }
   ],
   "source": [
    "mask_email('davemartin@bogusemail.com')"
   ]
  },
  {
   "cell_type": "code",
   "execution_count": 9,
   "id": "e81a8be2",
   "metadata": {},
   "outputs": [
    {
     "data": {
      "text/plain": [
       "'d####d@bogusemail.com'"
      ]
     },
     "execution_count": 9,
     "metadata": {},
     "output_type": "execute_result"
    }
   ],
   "source": [
    "mask_email('d@bogusemail.com')"
   ]
  },
  {
   "cell_type": "code",
   "execution_count": 10,
   "id": "ddc76bfc",
   "metadata": {},
   "outputs": [],
   "source": [
    "mask_email('davemartin')"
   ]
  },
  {
   "cell_type": "code",
   "execution_count": 11,
   "id": "4a977622",
   "metadata": {},
   "outputs": [
    {
     "data": {
      "text/plain": [
       "'d####n@'"
      ]
     },
     "execution_count": 11,
     "metadata": {},
     "output_type": "execute_result"
    }
   ],
   "source": [
    "mask_email('davemartin@')"
   ]
  },
  {
   "cell_type": "code",
   "execution_count": 13,
   "id": "96139c4e",
   "metadata": {},
   "outputs": [],
   "source": [
    "import re # import regex library\n",
    "\n",
    "def is_vemail(string):\n",
    "  email_pattern = \"^\\w+([\\.-]?\\w+)*@\\w+([\\.-]?\\w+)*(\\.\\w{2,3})+$\"\n",
    "  res = re.search(email_pattern, string)\n",
    "  # scans through string looking for the first location where pattern is found - will discuss about re module later\n",
    "  if res:\n",
    "    return True\n",
    "  else:\n",
    "    return False"
   ]
  },
  {
   "cell_type": "code",
   "execution_count": 18,
   "id": "0cc446dd",
   "metadata": {},
   "outputs": [
    {
     "data": {
      "text/plain": [
       "False"
      ]
     },
     "execution_count": 18,
     "metadata": {},
     "output_type": "execute_result"
    }
   ],
   "source": [
    "is_vemail(\"ai.with.heena@gmail.\")"
   ]
  },
  {
   "cell_type": "code",
   "execution_count": 15,
   "id": "4362c06c",
   "metadata": {},
   "outputs": [
    {
     "data": {
      "text/plain": [
       "True"
      ]
     },
     "execution_count": 15,
     "metadata": {},
     "output_type": "execute_result"
    }
   ],
   "source": [
    "is_vemail(\"ai.with.heena@iitd.ac.in\")"
   ]
  },
  {
   "cell_type": "code",
   "execution_count": 17,
   "id": "cbe1c692",
   "metadata": {},
   "outputs": [
    {
     "data": {
      "text/plain": [
       "True"
      ]
     },
     "execution_count": 17,
     "metadata": {},
     "output_type": "execute_result"
    }
   ],
   "source": [
    "is_vemail(\"ai.with.heena@iitd.con\")"
   ]
  },
  {
   "cell_type": "code",
   "execution_count": null,
   "id": "a24988e7",
   "metadata": {},
   "outputs": [],
   "source": [
    "But finding literals is not fun, we need to search for patterns, for which we will use these metacharacters\n",
    "\n",
    "```\n",
    ".       - Any Character Except New Line\n",
    "\\d      - Digit (0-9)\n",
    "\\D      - Not a Digit (0-9)\n",
    "\\w      - Word Character (a-z, A-Z, 0-9, _)\n",
    "\\W      - Not a Word Character\n",
    "\\s      - Whitespace (space, tab, newline)\n",
    "\\S      - Not Whitespace (space, tab, newline)\n",
    "\n",
    "\\b      - Word Boundary\n",
    "\\B      - Not a Word Boundary\n",
    "^       - Beginning of a String\n",
    "$       - End of a String\n",
    "\n",
    "[]      - Matches Characters in brackets\n",
    "[^ ]    - Matches Characters NOT in brackets\n",
    "|       - Either Or\n",
    "( )     - Group\n",
    "```\n",
    "\n",
    "- We don't need to remember right now\n",
    "- As we practice, we will get to remember most of them\n",
    "- If not, we can go to the Python documentation and look search for it\n",
    "\n",
    "https://docs.python.org/3/howto/regex.html"
   ]
  },
  {
   "cell_type": "code",
   "execution_count": null,
   "id": "7366716d",
   "metadata": {},
   "outputs": [],
   "source": [
    "\\n not selected in any of the literals be it \\w, \\W, \\s, \\S, \\d, \\D, ."
   ]
  },
  {
   "cell_type": "code",
   "execution_count": 21,
   "id": "c166c1f4",
   "metadata": {},
   "outputs": [
    {
     "name": "stdout",
     "output_type": "stream",
     "text": [
      "heena-bansal.nit@iitd.ac.in\n"
     ]
    }
   ],
   "source": [
    "regex = '^\\w+([\\.-]?\\w+)*@\\w+([\\.-]?\\w+)*(\\.\\w{2,3})+$' # highly non-readbale code\n",
    "\n",
    "#https://docs.python.org/2/library/re.html\n",
    "regex_verbose = re.compile(r\"\"\"           # VERY readable and easy to understand. Software maintanability.\n",
    "            ^\\w+([\\.-]?\\w+)*              # start, \\w+, \n",
    "            @                             # single @ sign \n",
    "            \\w+([\\.-]?\\w+)*               # Domain name \n",
    "            (\\.\\w{2,3})+$                 # .com, .ac.in,    \n",
    "             \"\"\", re.VERBOSE | re.IGNORECASE)   # no need to worry about these flags for now       \n",
    "\n",
    "res = regex_verbose.match(\"(Gujarat)\") #need  worry about the Python functions for now\n",
    "print(res.string)\n",
    "\n",
    "#print(res)"
   ]
  },
  {
   "cell_type": "code",
   "execution_count": null,
   "id": "191cac6d",
   "metadata": {},
   "outputs": [],
   "source": [
    "^\\w+([\\._]?\\w+)*  means\n",
    "\n",
    "heena.bansal.nit-dummy\n",
    "heena_bansal\n",
    "\n",
    "heena.rt.dfg"
   ]
  },
  {
   "cell_type": "code",
   "execution_count": null,
   "id": "133803ea",
   "metadata": {},
   "outputs": [],
   "source": [
    "regex_verbose = re.compile(r\"\"\"           # VERY readable and easy to understand. Software maintanability.\n",
    "            kkjkk          \"\"\", re.VERBOSE | re.IGNORECASE)   # no need to worry about these flags for now       \n"
   ]
  },
  {
   "cell_type": "code",
   "execution_count": null,
   "id": "62041d4c",
   "metadata": {},
   "outputs": [],
   "source": []
  },
  {
   "cell_type": "code",
   "execution_count": null,
   "id": "78dc2dfe",
   "metadata": {},
   "outputs": [],
   "source": []
  },
  {
   "cell_type": "code",
   "execution_count": null,
   "id": "16237695",
   "metadata": {},
   "outputs": [],
   "source": [
    "([\\.-\\\\]?\\w+)*\n",
    "\n",
    "\n",
    "[atmost 1 dot or hyphen and after that atleast 1 alphanumeric character]\n",
    "this entire pattern can repeat 0 or more times"
   ]
  },
  {
   "cell_type": "code",
   "execution_count": null,
   "id": "5de0c54c",
   "metadata": {},
   "outputs": [],
   "source": [
    "[\\. - \\\\]"
   ]
  },
  {
   "cell_type": "code",
   "execution_count": null,
   "id": "d778942e",
   "metadata": {},
   "outputs": [],
   "source": []
  },
  {
   "cell_type": "code",
   "execution_count": null,
   "id": "6c00677a",
   "metadata": {},
   "outputs": [],
   "source": [
    "\\\\{2}"
   ]
  },
  {
   "cell_type": "code",
   "execution_count": null,
   "id": "06486bc1",
   "metadata": {},
   "outputs": [],
   "source": [
    "abcd?\\w+\n",
    "\n",
    "\n",
    "\n",
    "abcdefgh\n",
    "\n",
    "abcd\n",
    "\n",
    "abcfgh\n",
    "abc"
   ]
  }
 ],
 "metadata": {
  "kernelspec": {
   "display_name": "Python 3 (ipykernel)",
   "language": "python",
   "name": "python3"
  },
  "language_info": {
   "codemirror_mode": {
    "name": "ipython",
    "version": 3
   },
   "file_extension": ".py",
   "mimetype": "text/x-python",
   "name": "python",
   "nbconvert_exporter": "python",
   "pygments_lexer": "ipython3",
   "version": "3.10.0"
  }
 },
 "nbformat": 4,
 "nbformat_minor": 5
}
